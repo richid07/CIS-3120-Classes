{
 "cells": [
  {
   "cell_type": "code",
   "execution_count": 13,
   "id": "6b88b4bc-a5c4-436d-9eed-8e95600f6d53",
   "metadata": {
    "editable": true,
    "slideshow": {
     "slide_type": ""
    },
    "tags": []
   },
   "outputs": [],
   "source": [
    "from Animal import Animal"
   ]
  },
  {
   "cell_type": "code",
   "execution_count": 14,
   "id": "738a52e3-faf1-4f92-8835-fed5b5e36dfe",
   "metadata": {
    "editable": true,
    "slideshow": {
     "slide_type": ""
    },
    "tags": []
   },
   "outputs": [
    {
     "name": "stdout",
     "output_type": "stream",
     "text": [
      "This animal is a: cat\n",
      "This animal makes the sound: meow\n",
      "This animal is a: male\n",
      "This animal is 7 years old\n",
      "this animal is a: carnivore\n",
      "This animal lives in a: home\n"
     ]
    }
   ],
   "source": [
    "x = Animal\n",
    "\n",
    "cat = Animal(type=\"cat\", talk=\"meow\", gender=\"male\", age=\"7\", diet=\"carnivore\", habitat=\"home\")\n",
    "cat.get_type()\n",
    "cat.make_sound()\n",
    "cat.get_gender()\n",
    "cat.get_age()\n",
    "cat.get_diet()\n",
    "cat.get_habitat()"
   ]
  }
 ],
 "metadata": {
  "kernelspec": {
   "display_name": "Python 3",
   "language": "python",
   "name": "python3"
  },
  "language_info": {
   "codemirror_mode": {
    "name": "ipython",
    "version": 3
   },
   "file_extension": ".py",
   "mimetype": "text/x-python",
   "name": "python",
   "nbconvert_exporter": "python",
   "pygments_lexer": "ipython3",
   "version": "3.12.5"
  }
 },
 "nbformat": 4,
 "nbformat_minor": 5
}
